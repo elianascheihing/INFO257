{
 "cells": [
  {
   "cell_type": "markdown",
   "metadata": {},
   "source": [
    "# Control Aprendizaje No Supervisado\n",
    "\n",
    "*Al finalizar, subir el notebook desarrollado a siveducMD*\n",
    "\n",
    "**1.** Describa en qué consiste el análisis de componentes principales incluyendo las propiedades que cumplen las dos primeras componentes principales y la proyección de los datos en ellas.  Nombre sus aplicaciones más comunes."
   ]
  },
  {
   "cell_type": "markdown",
   "metadata": {},
   "source": []
  },
  {
   "cell_type": "markdown",
   "metadata": {},
   "source": [
    "**2.** Describa uno de los algoritmos de agrupamiento que hemos estudiado, indique ventajas, desventajas y dé un ejemplo de aplicación.\n",
    "\n"
   ]
  },
  {
   "cell_type": "markdown",
   "metadata": {},
   "source": []
  },
  {
   "cell_type": "markdown",
   "metadata": {},
   "source": [
    "**Parte práctica:** Considere los datos adjuntos provenientes de un estudio de contaminación del aire que contiene mediciones de la concentración diaria de ozono (ppb), la velocidad del viento (mph), la temperatura máxima diaria (grados F) y la radiación solar (langleys) en 111 días de mayo a septiembre de 1973 en Nueva York. \n",
    "\n",
    "**3.** Realice un análisis exploratorio de los datos. Interprete sus resultados.\n",
    "    \n",
    "**4.** Escoja un método de agrupamiento que estime es adecuado para tratar estos datos. Justifique su elección y desarrolle los agrupamientos correspondientes\n",
    "    \n",
    "**5.** Indique y justifique los valores de los parámetros utilizados. Itere si es necesario.\n",
    "    \n",
    "**6.** Grafique sus resultados utilizando una proyección de los datos en el primer plano de componentes principales. Interprete sus resultados.\n",
    "  \n",
    "  \n"
   ]
  },
  {
   "cell_type": "code",
   "execution_count": 46,
   "metadata": {},
   "outputs": [
    {
     "name": "stdout",
     "output_type": "stream",
     "text": [
      "   ozone radiation temperature wind\n",
      "1     41       190          67  7.4\n",
      "2     36       118          72  8.0\n",
      "3     12       149          74 12.6\n",
      "4     18       313          62 11.5\n",
      "5     23       299          65  8.6\n",
      "6     19        99          59 13.8\n",
      "7      8        19          61 20.1\n",
      "8     16       256          69  9.7\n",
      "9     11       290          66  9.2\n",
      "10    14       274          68 10.9\n"
     ]
    }
   ],
   "source": [
    "library(cluster)\n",
    "library(ggplot2)\n",
    "datos <-read.csv(\"airPollution.csv\",dec=\",\",header=TRUE,sep=\";\")\n",
    "print(datos[1:10,])"
   ]
  },
  {
   "cell_type": "code",
   "execution_count": null,
   "metadata": {},
   "outputs": [],
   "source": []
  }
 ],
 "metadata": {
  "kernelspec": {
   "display_name": "R",
   "language": "R",
   "name": "ir"
  },
  "language_info": {
   "codemirror_mode": "r",
   "file_extension": ".r",
   "mimetype": "text/x-r-source",
   "name": "R",
   "pygments_lexer": "r",
   "version": "3.6.1"
  }
 },
 "nbformat": 4,
 "nbformat_minor": 2
}
