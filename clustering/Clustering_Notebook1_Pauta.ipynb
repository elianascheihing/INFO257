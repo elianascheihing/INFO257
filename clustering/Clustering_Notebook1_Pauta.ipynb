{
 "cells": [
  {
   "cell_type": "markdown",
   "metadata": {},
   "source": [
    "### PAUTA Notebook 1:  Clustering con K-means\n",
    "En este notebook vamos a implementar el algoritmo de clustering K-means en R. El objetivo es entender como funciona este algoritmo y  aprender a utilizarlo con un ejemplo simple. Se incluye además la estrategia para definir el número de grupos k. Al final se propone un ejercicio con nuevos datos, con el fin de aprender a utilizar el algoritmo. "
   ]
  },
  {
   "cell_type": "code",
   "execution_count": 3,
   "metadata": {},
   "outputs": [
    {
     "name": "stdout",
     "output_type": "stream",
     "text": [
      "           WATER PROTEIN  FAT LACTOSE  ASH\n",
      "HORSE       90.1     2.6  1.0     6.9 0.35\n",
      "ORANGUTAN   88.5     1.4  3.5     6.0 0.24\n",
      "MONKEY      88.4     2.2  2.7     6.4 0.18\n",
      "DONKEY      90.3     1.7  1.4     6.2 0.40\n",
      "HIPPO       90.4     0.6  4.5     4.4 0.10\n",
      "CAMEL       87.7     3.5  3.4     4.8 0.71\n",
      "BISON       86.9     4.8  1.7     5.7 0.90\n",
      "BUFFALO     82.1     5.9  7.9     4.7 0.78\n",
      "GUINEA_PIG  81.9     7.4  7.2     2.7 0.85\n",
      "CAT         81.6    10.1  6.3     4.4 0.75\n",
      "FOX         81.6     6.6  5.9     4.9 0.93\n",
      "LLAMA       86.5     3.9  3.2     5.6 0.80\n",
      "MULE        90.0     2.0  1.8     5.5 0.47\n",
      "PIG         82.8     7.1  5.1     3.7 1.10\n",
      "ZEBRA       86.2     3.0  4.8     5.3 0.70\n",
      "SHEEP       82.0     5.6  6.4     4.7 0.91\n",
      "DOG         76.3     9.3  9.5     3.0 1.20\n",
      "ELEPHANT    70.7     3.6 17.6     5.6 0.63\n",
      "RABBIT      71.3    12.3 13.1     1.9 2.30\n",
      "RAT         72.5     9.2 12.6     3.3 1.40\n",
      "DEER        65.9    10.4 19.7     2.6 1.40\n",
      "REINDEER    64.8    10.7 20.3     2.5 1.40\n",
      "WHALE       64.8    11.1 21.2     1.6 1.70\n",
      "SEAL        46.4     9.7 42.0     0.0 0.85\n",
      "DOLPHIN     44.9    10.6 34.9     0.9 0.53\n"
     ]
    },
    {
     "data": {
      "text/plain": [
       "     WATER          PROTEIN            FAT           LACTOSE     \n",
       " Min.   :44.90   Min.   : 0.600   Min.   : 1.00   Min.   :0.000  \n",
       " 1st Qu.:71.30   1st Qu.: 3.000   1st Qu.: 3.40   1st Qu.:2.700  \n",
       " Median :82.00   Median : 5.900   Median : 6.30   Median :4.700  \n",
       " Mean   :78.18   Mean   : 6.212   Mean   :10.31   Mean   :4.132  \n",
       " 3rd Qu.:87.70   3rd Qu.: 9.700   3rd Qu.:13.10   3rd Qu.:5.600  \n",
       " Max.   :90.40   Max.   :12.300   Max.   :42.00   Max.   :6.900  \n",
       "      ASH        \n",
       " Min.   :0.1000  \n",
       " 1st Qu.:0.5300  \n",
       " Median :0.8000  \n",
       " Mean   :0.8632  \n",
       " 3rd Qu.:1.1000  \n",
       " Max.   :2.3000  "
      ]
     },
     "metadata": {},
     "output_type": "display_data"
    },
    {
     "data": {
      "image/png": "[encoded data removed]",
      "text/plain": [
       "plot without title"
      ]
     },
     "metadata": {
      "image/png": {
       "height": 420,
       "width": 420
      },
      "text/plain": {
       "height": 420,
       "width": 420
      }
     },
     "output_type": "display_data"
    }
   ],
   "source": [
    "library(cluster)\n",
    "library(ggplot2)\n",
    "\n",
    "#ruta datos\n",
    "#lee datos del archivo de texto como una matriz. La primera #columna se utiliza como vector de nombres de las filas\n",
    "datos <-read.table(\"c:\\\\milk.dat\",row.names=1,dec=\".\",header=TRUE)\n",
    "print(datos)\n",
    "summary(datos)\n",
    "boxplot(datos)"
   ]
  },
  {
   "cell_type": "markdown",
   "metadata": {},
   "source": [
    "**Descripción de los datos y porque realizar un análisis de agrupamiento**\n",
    "\n",
    "Se trata de un conjunto de datos que describen la composición de la leche de 25 mamíferos. Se consideran 5 características en porcentajes: agua, proteína, grasa, lactosa y calcio. Se puede observar del boxplot que, en promedio, el mayor porcentaje de todas las leches es agua (cerca de 80%), seguido de proteína, grasa y lactosa (cerca del 5%) y bastante menor porcentaje de calcio (0,8%). Las componente que tienen mayor variación son el porcentaje de agua y de grasa. Parece pertinente realizar un análisis de agrupamiento para distinguir grupos de mamíferos que poseen leches de características similares."
   ]
  },
  {
   "cell_type": "code",
   "execution_count": 4,
   "metadata": {
    "scrolled": true
   },
   "outputs": [
    {
     "data": {
      "image/png": "[encoded data removed]",
      "text/plain": [
       "plot without title"
      ]
     },
     "metadata": {
      "image/png": {
       "height": 420,
       "width": 420
      },
      "text/plain": {
       "height": 420,
       "width": 420
      }
     },
     "output_type": "display_data"
    }
   ],
   "source": [
    "#ingresar valor de k0 \n",
    "k0=3\n",
    "cl<-kmeans(datos,k0,iter.max=1000,nstart=10)\n",
    "#grafica los datos coloreados con el grupo asignado en planos de pares de variables\n",
    "pairs(datos,col=cl$cluster)"
   ]
  },
  {
   "cell_type": "markdown",
   "metadata": {},
   "source": [
    "Al considerar 3 grupos con el algoritmo KMeans, se obtienen grupos claramente diferenciados por las variables porcentaje de agua y grasa. El grupo negro (focas y delfines), con los menores porcentajes de agua y mayores porcentajes de grasa. El grupo negro, con 6 mamíferos, cuyas leches tienen porcentajes intermedios de agua (60 a 75%) y grasa (12 a 22%). Y luego el grupo rojo, el mas común, con 17 mamíferos, cuyas leches tienen mas de 75% de agua y menos de 10% de grasa. Las otras variables no permiten discriminar completamente los 3 grupos definidos."
   ]
  },
  {
   "cell_type": "code",
   "execution_count": 5,
   "metadata": {},
   "outputs": [
    {
     "name": "stdout",
     "output_type": "stream",
     "text": [
      "Call:\n",
      "princomp(x = datos, cor = TRUE)\n",
      "\n",
      "Standard deviations:\n",
      "    Comp.1     Comp.2     Comp.3     Comp.4     Comp.5 \n",
      "1.96946572 0.94201777 0.35905327 0.31397620 0.07941651 \n",
      "\n",
      " 5  variables and  25 observations.\n"
     ]
    },
    {
     "data": {
      "text/html": [
       "<table>\n",
       "<caption>A matrix: 3 × 5 of type dbl</caption>\n",
       "<thead>\n",
       "\t<tr><th scope=col>Comp.1</th><th scope=col>Comp.2</th><th scope=col>Comp.3</th><th scope=col>Comp.4</th><th scope=col>Comp.5</th></tr>\n",
       "</thead>\n",
       "<tbody>\n",
       "\t<tr><td>-3.831081</td><td>-2.2408320</td><td> 0.09790001</td><td>-0.02910750</td><td>-0.029457957</td></tr>\n",
       "\t<tr><td>-1.748439</td><td> 0.5834780</td><td>-0.20968076</td><td> 0.06088255</td><td>-0.002705362</td></tr>\n",
       "\t<tr><td> 1.243827</td><td> 0.0248324</td><td> 0.07949783</td><td>-0.02299768</td><td> 0.004865841</td></tr>\n",
       "</tbody>\n",
       "</table>\n"
      ],
      "text/latex": [
       "A matrix: 3 × 5 of type dbl\n",
       "\\begin{tabular}{r|lllll}\n",
       " Comp.1 & Comp.2 & Comp.3 & Comp.4 & Comp.5\\\\\n",
       "\\hline\n",
       "\t -3.831081 & -2.2408320 &  0.09790001 & -0.02910750 & -0.029457957\\\\\n",
       "\t -1.748439 &  0.5834780 & -0.20968076 &  0.06088255 & -0.002705362\\\\\n",
       "\t  1.243827 &  0.0248324 &  0.07949783 & -0.02299768 &  0.004865841\\\\\n",
       "\\end{tabular}\n"
      ],
      "text/markdown": [
       "\n",
       "A matrix: 3 × 5 of type dbl\n",
       "\n",
       "| Comp.1 | Comp.2 | Comp.3 | Comp.4 | Comp.5 |\n",
       "|---|---|---|---|---|\n",
       "| -3.831081 | -2.2408320 |  0.09790001 | -0.02910750 | -0.029457957 |\n",
       "| -1.748439 |  0.5834780 | -0.20968076 |  0.06088255 | -0.002705362 |\n",
       "|  1.243827 |  0.0248324 |  0.07949783 | -0.02299768 |  0.004865841 |\n",
       "\n"
      ],
      "text/plain": [
       "  Comp.1    Comp.2     Comp.3      Comp.4      Comp.5      \n",
       "1 -3.831081 -2.2408320  0.09790001 -0.02910750 -0.029457957\n",
       "2 -1.748439  0.5834780 -0.20968076  0.06088255 -0.002705362\n",
       "3  1.243827  0.0248324  0.07949783 -0.02299768  0.004865841"
      ]
     },
     "metadata": {},
     "output_type": "display_data"
    },
    {
     "data": {
      "text/plain": [
       "K-means clustering with 3 clusters of sizes 2, 7, 16\n",
       "\n",
       "Cluster means:\n",
       "     WATER   PROTEIN      FAT  LACTOSE      ASH\n",
       "1 45.65000 10.150000 38.45000 0.450000 0.690000\n",
       "2 69.47143  9.514286 16.28571 2.928571 1.432857\n",
       "3 86.06250  4.275000  4.17500 5.118750 0.635625\n",
       "\n",
       "Clustering vector:\n",
       "     HORSE  ORANGUTAN     MONKEY     DONKEY      HIPPO      CAMEL      BISON \n",
       "         3          3          3          3          3          3          3 \n",
       "   BUFFALO GUINEA_PIG        CAT        FOX      LLAMA       MULE        PIG \n",
       "         3          3          3          3          3          3          3 \n",
       "     ZEBRA      SHEEP        DOG   ELEPHANT     RABBIT        RAT       DEER \n",
       "         3          3          2          2          2          2          2 \n",
       "  REINDEER      WHALE       SEAL    DOLPHIN \n",
       "         2          2          1          1 \n",
       "\n",
       "Within cluster sum of squares by cluster:\n",
       "[1]  27.1912 299.9911 377.2215\n",
       " (between_SS / total_SS =  89.9 %)\n",
       "\n",
       "Available components:\n",
       "\n",
       "[1] \"cluster\"      \"centers\"      \"totss\"        \"withinss\"     \"tot.withinss\"\n",
       "[6] \"betweenss\"    \"size\"         \"iter\"         \"ifault\"      "
      ]
     },
     "metadata": {},
     "output_type": "display_data"
    },
    {
     "data": {
      "image/png": "[encoded data removed]",
      "text/plain": [
       "Plot with title \"res\""
      ]
     },
     "metadata": {
      "image/png": {
       "height": 420,
       "width": 420
      },
      "text/plain": {
       "height": 420,
       "width": 420
      }
     },
     "output_type": "display_data"
    },
    {
     "data": {
      "image/png": "[encoded data removed]",
      "text/plain": [
       "plot without title"
      ]
     },
     "metadata": {
      "image/png": {
       "height": 420,
       "width": 420
      },
      "text/plain": {
       "height": 420,
       "width": 420
      }
     },
     "output_type": "display_data"
    }
   ],
   "source": [
    "#Análisis de Componentes Principales para graficar los grupos obtenidos\n",
    "#Calcula plano de componentes principales y grafica las observaciones con el número de su grupo\n",
    "res <- princomp(datos, cor=TRUE)\n",
    "print(res)\n",
    "plot(res)\n",
    "res2 <- predict(res,cl$centers)\n",
    "res2\n",
    "cl\n",
    "biplot(res,xlabs=cl$cluster)\n",
    "#grafica los centros de cada grupo en el plano de componentes principales utilizando colores distintos\n",
    "points(res2[,1:2],col=1:k0,pch=19)\n"
   ]
  },
  {
   "cell_type": "markdown",
   "metadata": {},
   "source": [
    "La representación de los grupos en el primer plano principal nos permite distinguir que el grupo 3 representa a los individuos con mayores valores de FAT, mientras corresponde a los mamíferos con mayores porcentajes de agua y lactosa y por otra parte el grupo 2 contiene mamíferos con mayores porcentajes de proteína y calcio (a excepción de un caso)."
   ]
  },
  {
   "cell_type": "code",
   "execution_count": 6,
   "metadata": {},
   "outputs": [
    {
     "data": {
      "image/png": "[encoded data removed]",
      "text/plain": [
       "Plot with title \"J v/s k en k-means\""
      ]
     },
     "metadata": {
      "image/png": {
       "height": 420,
       "width": 420
      },
      "text/plain": {
       "height": 420,
       "width": 420
      }
     },
     "output_type": "display_data"
    }
   ],
   "source": [
    "#Estrategia para elegir K, el numero de grupos\n",
    "#J suma cuadrado de las distancias por cada k utilizado\n",
    "#K-means\n",
    "J<-rep(0,20)\n",
    "fin_iter<-20\n",
    "\n",
    "\n",
    "for (k in 1:fin_iter){\n",
    "     cl<-kmeans(datos,k,iter.max=1000,nstart=10)\n",
    "\t J[k]<-cl$tot.withinss\n",
    "}\n",
    "\n",
    "\n",
    "plot(1:fin_iter,J,xlab=\"k\",ylab=\"J\",type=\"p\",main=\"J v/s k en k-means\",col=2) "
   ]
  },
  {
   "cell_type": "markdown",
   "metadata": {},
   "source": [
    "**Ejercicio 1:** \n",
    "1. De acuerdo al gráfico obtenido, cuál es el valor de K mas apropiado? Agregue código para automatizar este criterio.\n",
    "2. Caracterice los grupos obtenidos con el K óptimo. Interprete sus resultados"
   ]
  },
  {
   "cell_type": "markdown",
   "metadata": {},
   "source": [
    "#### Respuesta 1.1:\n",
    "De acuerdo a la heurística vista en clases, el codo en el gráfico se encuentra entre k =3 o 4. Por parsimonia se escoje k=3. El código para automatizar la heurística es el siguiente:"
   ]
  },
  {
   "cell_type": "code",
   "execution_count": 7,
   "metadata": {},
   "outputs": [
    {
     "name": "stdout",
     "output_type": "stream",
     "text": [
      "[1]  704.403726 1482.419188 4818.266230    3.250272\n",
      "[1]  341.885448  362.518278 1482.419188    4.089226\n",
      "[1] 212.504458 129.380989 362.518278   2.801944\n",
      "[1] 141.106117  71.398342 129.380989   1.812101\n",
      "[1] 109.515408  31.590708  71.398342   2.260106\n",
      "[1] 87.337075 22.178333 31.590708  1.424395\n",
      "[1] 76.352662 10.984413 22.178333  2.019073\n",
      "[1] 66.167795 10.184867 10.984413  1.078503\n",
      "[1] 59.382928  6.784867 10.184867  1.501115\n",
      "[1] 36.9515950 22.4313333  6.7848667  0.3024727\n",
      "[1]  52.52625 -15.57466  22.43133   0.00000\n",
      "[1]  22.31998  30.20627 -15.57466   0.00000\n",
      "[1] 20.55403  1.76595 30.20627  0.00000\n",
      "[1] 21.1729167 -0.6188833  1.7659500  0.0000000\n",
      "[1] 17.1725500  4.0003667 -0.6188833  0.0000000\n",
      "[1] 7.229983 9.942567 4.000367 0.000000\n",
      "[1] 11.404983 -4.175000  9.942567  0.000000\n",
      "[1]  4.369983  7.035000 -4.175000  0.000000\n",
      "[1] 3\n"
     ]
    }
   ],
   "source": [
    "J<-rep(0,20)\n",
    "fin_iter<-20\n",
    "tasa <- rep(0,20)\n",
    "dif <- rep(1,20)\n",
    "cl_1 <- kmeans(datos,1,iter.max=1000,nstart=10)\n",
    "J[1] <-cl_1$tot.withinss\n",
    "cl_2 <- kmeans(datos,2,iter.max=1000,nstart=10)\n",
    "J[2] <-cl_2$tot.withinss\n",
    "dif[2] <- J[1]-J[2]\n",
    "tasa[2]<-1\n",
    "t_max <- 1\n",
    "k_max <-1\n",
    "\n",
    "for (k in 3:fin_iter){\n",
    "     cl<-kmeans(datos,k,iter.max=2000,nstart=10)\n",
    "\t J[k]<-cl$tot.withinss\n",
    "     dif[k] <- J[k-1]-J[k]\n",
    "    # calcula la tasa mientras la función de pérdida sea decreciente\n",
    "     if ((dif[k] >0)&&(tasa[k-1]>0)){\n",
    "         tasa[k] <- dif[k-1]/dif[k]\n",
    "         if (tasa[k]>t_max) {\n",
    "             t_max <- tasa[k]\n",
    "             k_max <- k-1\n",
    "         }\n",
    "     }\n",
    "     print(c(J[k],dif[k], dif[k-1], tasa[k]))\n",
    "}\n",
    "\n",
    "print(k_max)"
   ]
  },
  {
   "cell_type": "code",
   "execution_count": 18,
   "metadata": {},
   "outputs": [
    {
     "name": "stdout",
     "output_type": "stream",
     "text": [
      "   Agua Proteina Grasa Lactosa Calcio\n",
      "1 45.65    10.15 38.45    0.45   0.69\n",
      "2 70.70    10.40 17.60    2.60   1.40\n",
      "3 86.70     3.70  4.00    5.10   0.73\n"
     ]
    }
   ],
   "source": [
    "k0=3\n",
    "cl<-kmeans(datos,k0,iter.max=1000,nstart=10)\n",
    "x1 <- tapply(datos[,1],cl$cluster,median)\n",
    "x2<- tapply(datos[,2],cl$cluster,median)\n",
    "x3 <- tapply(datos[,3],cl$cluster,median)\n",
    "x4 <- tapply(datos[,4],cl$cluster,median)\n",
    "x5 <- tapply(datos[,5],cl$cluster,median)\n",
    "medianas <- cbind(x1,x2,x3,x4,x5)\n",
    "colnames(medianas)<- c('Agua','Proteina','Grasa','Lactosa','Calcio')\n",
    "print(medianas)"
   ]
  },
  {
   "cell_type": "markdown",
   "metadata": {},
   "source": [
    "#### Respuesta 1.2:\n",
    "Al considerar 3 grupos con el algoritmo KMeans, se obtienen los siguientes valores de medianas por grupo:\n",
    "Grupo 1: 2 mamíferos (focas y delfines) cuya leche tiene los menores porcentajes de agua, lactosa y calcio y mayores porcentajes de grasa.\n",
    "Grupo 2: 6 mamíferos cuya leche tiene  porcentaje medio de agua, grasa y lactosa y mayores porcentajes de proteína y calcio.\n",
    "Grupo 3: 17 mamíferos, cuya leche tiene los mayores porcentajes de agua y lactosa y los menores porcentajes de proteína, grasa y calcio."
   ]
  },
  {
   "cell_type": "markdown",
   "metadata": {},
   "source": [
    "**Ejercicio 2:** Realice un análisis de clustering con un subconjunto de datos de comunas.csv. \n",
    "1. Describa los datos y discuta la pertinencia de realizar un análisis de clustering o agrupamiento\n",
    "2. Utilice k-means para realizar el clustering de los datos y calcule el K óptimo. \n",
    "3. Caracterice los grupos obtenidos con el K óptimo. Interprete sus resultados\n"
   ]
  },
  {
   "cell_type": "code",
   "execution_count": 3,
   "metadata": {},
   "outputs": [
    {
     "data": {
      "text/html": [
       "<table class=\"dataframe\">\n",
       "<caption>A data.frame: 6 × 14</caption>\n",
       "<thead>\n",
       "\t<tr><th></th><th scope=col>Regi.n</th><th scope=col>Comuna</th><th scope=col>Poblaci.n..miles..2011</th><th scope=col>IDSE</th><th scope=col>Ingreso.per.c.p..Mens..miles....2006.11</th><th scope=col>Pobreza...2006.11</th><th scope=col>Escolaridad..aØos..2006.11</th><th scope=col>Material.Vivienda.bueno.o.acceptable...2006</th><th scope=col>Alcantarillado.o.Fosa.S.pt....2006</th><th scope=col>Esperanza.vida.al.nacer..aØos..2005.10</th><th scope=col>X.ndice.Desarrollo.Humano</th><th scope=col>Tasa.AVPP.x.1000.h.2007.11</th><th scope=col>X..defunc..50..aØos.2011</th><th scope=col>Mortalidad.Infantil.x.1000.NV.2009.11</th></tr>\n",
       "\t<tr><th></th><th scope=col>&lt;int&gt;</th><th scope=col>&lt;chr&gt;</th><th scope=col>&lt;dbl&gt;</th><th scope=col>&lt;dbl&gt;</th><th scope=col>&lt;dbl&gt;</th><th scope=col>&lt;dbl&gt;</th><th scope=col>&lt;dbl&gt;</th><th scope=col>&lt;dbl&gt;</th><th scope=col>&lt;dbl&gt;</th><th scope=col>&lt;dbl&gt;</th><th scope=col>&lt;dbl&gt;</th><th scope=col>&lt;dbl&gt;</th><th scope=col>&lt;dbl&gt;</th><th scope=col>&lt;dbl&gt;</th></tr>\n",
       "</thead>\n",
       "<tbody>\n",
       "\t<tr><th scope=row>1</th><td>1</td><td>Iquique      </td><td>186.0</td><td>0.698</td><td>227.6</td><td>10.2</td><td>11.1</td><td>81.8</td><td>98.8</td><td>77.2</td><td>0.631</td><td>82.1</td><td>73.0</td><td>8.9</td></tr>\n",
       "\t<tr><th scope=row>2</th><td>1</td><td>Pica         </td><td> 18.6</td><td>0.604</td><td>188.1</td><td>12.2</td><td> 9.6</td><td>71.0</td><td>94.0</td><td>77.5</td><td>0.572</td><td>23.0</td><td>45.8</td><td>9.8</td></tr>\n",
       "\t<tr><th scope=row>3</th><td>1</td><td>Pozo Almonte </td><td> 17.3</td><td>0.591</td><td>176.0</td><td> 9.8</td><td> 9.7</td><td>73.1</td><td>83.5</td><td>77.3</td><td>0.574</td><td>44.3</td><td>66.7</td><td>7.1</td></tr>\n",
       "\t<tr><th scope=row>4</th><td>1</td><td>Alto Hospicio</td><td> 93.8</td><td>0.577</td><td>166.3</td><td>20.9</td><td>10.1</td><td>65.9</td><td>98.4</td><td>78.1</td><td>0.555</td><td>46.7</td><td>56.2</td><td>4.9</td></tr>\n",
       "\t<tr><th scope=row>5</th><td>1</td><td>Huara        </td><td>  3.4</td><td>0.382</td><td>161.4</td><td>10.0</td><td> 7.6</td><td>49.0</td><td>38.9</td><td>81.8</td><td>0.592</td><td>55.8</td><td>44.4</td><td>8.9</td></tr>\n",
       "\t<tr><th scope=row>6</th><td>2</td><td>Calama       </td><td>148.8</td><td>0.717</td><td>269.3</td><td> 8.5</td><td>10.9</td><td>85.0</td><td>98.9</td><td>76.2</td><td>0.625</td><td>87.2</td><td>63.4</td><td>9.7</td></tr>\n",
       "</tbody>\n",
       "</table>\n"
      ],
      "text/latex": [
       "A data.frame: 6 × 14\n",
       "\\begin{tabular}{r|llllllllllllll}\n",
       "  & Regi.n & Comuna & Poblaci.n..miles..2011 & IDSE & Ingreso.per.c.p..Mens..miles....2006.11 & Pobreza...2006.11 & Escolaridad..aØos..2006.11 & Material.Vivienda.bueno.o.acceptable...2006 & Alcantarillado.o.Fosa.S.pt....2006 & Esperanza.vida.al.nacer..aØos..2005.10 & X.ndice.Desarrollo.Humano & Tasa.AVPP.x.1000.h.2007.11 & X..defunc..50..aØos.2011 & Mortalidad.Infantil.x.1000.NV.2009.11\\\\\n",
       "  & <int> & <chr> & <dbl> & <dbl> & <dbl> & <dbl> & <dbl> & <dbl> & <dbl> & <dbl> & <dbl> & <dbl> & <dbl> & <dbl>\\\\\n",
       "\\hline\n",
       "\t1 & 1 & Iquique       & 186.0 & 0.698 & 227.6 & 10.2 & 11.1 & 81.8 & 98.8 & 77.2 & 0.631 & 82.1 & 73.0 & 8.9\\\\\n",
       "\t2 & 1 & Pica          &  18.6 & 0.604 & 188.1 & 12.2 &  9.6 & 71.0 & 94.0 & 77.5 & 0.572 & 23.0 & 45.8 & 9.8\\\\\n",
       "\t3 & 1 & Pozo Almonte  &  17.3 & 0.591 & 176.0 &  9.8 &  9.7 & 73.1 & 83.5 & 77.3 & 0.574 & 44.3 & 66.7 & 7.1\\\\\n",
       "\t4 & 1 & Alto Hospicio &  93.8 & 0.577 & 166.3 & 20.9 & 10.1 & 65.9 & 98.4 & 78.1 & 0.555 & 46.7 & 56.2 & 4.9\\\\\n",
       "\t5 & 1 & Huara         &   3.4 & 0.382 & 161.4 & 10.0 &  7.6 & 49.0 & 38.9 & 81.8 & 0.592 & 55.8 & 44.4 & 8.9\\\\\n",
       "\t6 & 2 & Calama        & 148.8 & 0.717 & 269.3 &  8.5 & 10.9 & 85.0 & 98.9 & 76.2 & 0.625 & 87.2 & 63.4 & 9.7\\\\\n",
       "\\end{tabular}\n"
      ],
      "text/markdown": [
       "\n",
       "A data.frame: 6 × 14\n",
       "\n",
       "| <!--/--> | Regi.n &lt;int&gt; | Comuna &lt;chr&gt; | Poblaci.n..miles..2011 &lt;dbl&gt; | IDSE &lt;dbl&gt; | Ingreso.per.c.p..Mens..miles....2006.11 &lt;dbl&gt; | Pobreza...2006.11 &lt;dbl&gt; | Escolaridad..aØos..2006.11 &lt;dbl&gt; | Material.Vivienda.bueno.o.acceptable...2006 &lt;dbl&gt; | Alcantarillado.o.Fosa.S.pt....2006 &lt;dbl&gt; | Esperanza.vida.al.nacer..aØos..2005.10 &lt;dbl&gt; | X.ndice.Desarrollo.Humano &lt;dbl&gt; | Tasa.AVPP.x.1000.h.2007.11 &lt;dbl&gt; | X..defunc..50..aØos.2011 &lt;dbl&gt; | Mortalidad.Infantil.x.1000.NV.2009.11 &lt;dbl&gt; |\n",
       "|---|---|---|---|---|---|---|---|---|---|---|---|---|---|---|\n",
       "| 1 | 1 | Iquique       | 186.0 | 0.698 | 227.6 | 10.2 | 11.1 | 81.8 | 98.8 | 77.2 | 0.631 | 82.1 | 73.0 | 8.9 |\n",
       "| 2 | 1 | Pica          |  18.6 | 0.604 | 188.1 | 12.2 |  9.6 | 71.0 | 94.0 | 77.5 | 0.572 | 23.0 | 45.8 | 9.8 |\n",
       "| 3 | 1 | Pozo Almonte  |  17.3 | 0.591 | 176.0 |  9.8 |  9.7 | 73.1 | 83.5 | 77.3 | 0.574 | 44.3 | 66.7 | 7.1 |\n",
       "| 4 | 1 | Alto Hospicio |  93.8 | 0.577 | 166.3 | 20.9 | 10.1 | 65.9 | 98.4 | 78.1 | 0.555 | 46.7 | 56.2 | 4.9 |\n",
       "| 5 | 1 | Huara         |   3.4 | 0.382 | 161.4 | 10.0 |  7.6 | 49.0 | 38.9 | 81.8 | 0.592 | 55.8 | 44.4 | 8.9 |\n",
       "| 6 | 2 | Calama        | 148.8 | 0.717 | 269.3 |  8.5 | 10.9 | 85.0 | 98.9 | 76.2 | 0.625 | 87.2 | 63.4 | 9.7 |\n",
       "\n"
      ],
      "text/plain": [
       "  Regi.n Comuna        Poblaci.n..miles..2011 IDSE \n",
       "1 1      Iquique       186.0                  0.698\n",
       "2 1      Pica           18.6                  0.604\n",
       "3 1      Pozo Almonte   17.3                  0.591\n",
       "4 1      Alto Hospicio  93.8                  0.577\n",
       "5 1      Huara           3.4                  0.382\n",
       "6 2      Calama        148.8                  0.717\n",
       "  Ingreso.per.c.p..Mens..miles....2006.11 Pobreza...2006.11\n",
       "1 227.6                                   10.2             \n",
       "2 188.1                                   12.2             \n",
       "3 176.0                                    9.8             \n",
       "4 166.3                                   20.9             \n",
       "5 161.4                                   10.0             \n",
       "6 269.3                                    8.5             \n",
       "  Escolaridad..aØos..2006.11 Material.Vivienda.bueno.o.acceptable...2006\n",
       "1 11.1                       81.8                                       \n",
       "2  9.6                       71.0                                       \n",
       "3  9.7                       73.1                                       \n",
       "4 10.1                       65.9                                       \n",
       "5  7.6                       49.0                                       \n",
       "6 10.9                       85.0                                       \n",
       "  Alcantarillado.o.Fosa.S.pt....2006 Esperanza.vida.al.nacer..aØos..2005.10\n",
       "1 98.8                               77.2                                  \n",
       "2 94.0                               77.5                                  \n",
       "3 83.5                               77.3                                  \n",
       "4 98.4                               78.1                                  \n",
       "5 38.9                               81.8                                  \n",
       "6 98.9                               76.2                                  \n",
       "  X.ndice.Desarrollo.Humano Tasa.AVPP.x.1000.h.2007.11 X..defunc..50..aØos.2011\n",
       "1 0.631                     82.1                       73.0                    \n",
       "2 0.572                     23.0                       45.8                    \n",
       "3 0.574                     44.3                       66.7                    \n",
       "4 0.555                     46.7                       56.2                    \n",
       "5 0.592                     55.8                       44.4                    \n",
       "6 0.625                     87.2                       63.4                    \n",
       "  Mortalidad.Infantil.x.1000.NV.2009.11\n",
       "1 8.9                                  \n",
       "2 9.8                                  \n",
       "3 7.1                                  \n",
       "4 4.9                                  \n",
       "5 8.9                                  \n",
       "6 9.7                                  "
      ]
     },
     "metadata": {},
     "output_type": "display_data"
    }
   ],
   "source": [
    "datos <- read.csv(\"comunas.csv\",header=TRUE,sep=\";\",dec=\".\")\n",
    "head(datos)"
   ]
  },
  {
   "cell_type": "markdown",
   "metadata": {},
   "source": [
    "Para reducir la complejidad del análisis se analizarán sólo 4 regiones: metropolitana, Araucanía, Los Ríos y Los Lagos."
   ]
  },
  {
   "cell_type": "code",
   "execution_count": 42,
   "metadata": {},
   "outputs": [
    {
     "data": {
      "text/html": [
       "<style>\n",
       ".list-inline {list-style: none; margin:0; padding: 0}\n",
       ".list-inline>li {display: inline-block}\n",
       ".list-inline>li:not(:last-child)::after {content: \"\\00b7\"; padding: 0 .5ex}\n",
       "</style>\n",
       "<ol class=list-inline><li>323</li><li>14</li></ol>\n"
      ],
      "text/latex": [
       "\\begin{enumerate*}\n",
       "\\item 323\n",
       "\\item 14\n",
       "\\end{enumerate*}\n"
      ],
      "text/markdown": [
       "1. 323\n",
       "2. 14\n",
       "\n",
       "\n"
      ],
      "text/plain": [
       "[1] 323  14"
      ]
     },
     "metadata": {},
     "output_type": "display_data"
    },
    {
     "data": {
      "text/html": [
       "<style>\n",
       ".list-inline {list-style: none; margin:0; padding: 0}\n",
       ".list-inline>li {display: inline-block}\n",
       ".list-inline>li:not(:last-child)::after {content: \"\\00b7\"; padding: 0 .5ex}\n",
       "</style>\n",
       "<ol class=list-inline><li>124</li><li>12</li></ol>\n"
      ],
      "text/latex": [
       "\\begin{enumerate*}\n",
       "\\item 124\n",
       "\\item 12\n",
       "\\end{enumerate*}\n"
      ],
      "text/markdown": [
       "1. 124\n",
       "2. 12\n",
       "\n",
       "\n"
      ],
      "text/plain": [
       "[1] 124  12"
      ]
     },
     "metadata": {},
     "output_type": "display_data"
    },
    {
     "data": {
      "text/plain": [
       "       V1               V2               V3               V4       \n",
       " Min.   :  4.00   Min.   :0.2650   Min.   :  93.2   Min.   : 1.30  \n",
       " 1st Qu.: 13.25   1st Qu.:0.4667   1st Qu.: 136.5   1st Qu.:10.07  \n",
       " Median : 31.55   Median :0.5580   Median : 160.8   Median :13.80  \n",
       " Mean   : 72.05   Mean   :0.5577   Mean   : 198.0   Mean   :16.29  \n",
       " 3rd Qu.: 91.25   3rd Qu.:0.6480   3rd Qu.: 199.0   3rd Qu.:21.23  \n",
       " Max.   :735.40   Max.   :0.9920   Max.   :1143.1   Max.   :39.50  \n",
       "       V5               V6              V7               V8       \n",
       " Min.   : 6.400   Min.   :56.70   Min.   : 23.60   Min.   :71.40  \n",
       " 1st Qu.: 8.175   1st Qu.:78.47   1st Qu.: 66.25   1st Qu.:75.10  \n",
       " Median : 9.000   Median :84.20   Median : 84.50   Median :76.25  \n",
       " Mean   : 9.278   Mean   :82.70   Mean   : 78.93   Mean   :76.28  \n",
       " 3rd Qu.:10.025   3rd Qu.:88.28   3rd Qu.: 95.40   3rd Qu.:77.30  \n",
       " Max.   :15.000   Max.   :98.00   Max.   :100.00   Max.   :82.20  \n",
       "       V9              V10              V11             V12        \n",
       " Min.   :0.2390   Min.   : 32.10   Min.   :57.10   Min.   : 0.000  \n",
       " 1st Qu.:0.4280   1st Qu.: 69.08   1st Qu.:72.78   1st Qu.: 6.275  \n",
       " Median :0.5065   Median : 84.25   Median :76.45   Median : 7.500  \n",
       " Mean   :0.5143   Mean   : 83.46   Mean   :76.07   Mean   : 7.727  \n",
       " 3rd Qu.:0.5743   3rd Qu.: 96.90   3rd Qu.:78.92   3rd Qu.: 9.025  \n",
       " Max.   :0.9910   Max.   :172.30   Max.   :89.70   Max.   :22.900  "
      ]
     },
     "metadata": {},
     "output_type": "display_data"
    },
    {
     "data": {
      "image/png": "[encoded data removed]",
      "text/plain": [
       "plot without title"
      ]
     },
     "metadata": {
      "image/png": {
       "height": 420,
       "width": 420
      }
     },
     "output_type": "display_data"
    }
   ],
   "source": [
    "dim(datos)\n",
    "datos13 <- as.matrix(datos[datos[,1]==13,3:14])\n",
    "datos10 <- as.matrix(datos[datos[,1]==10,3:14])\n",
    "datos9 <- as.matrix(datos[datos[,1]==9,3:14])\n",
    "datos14 <- as.matrix(datos[datos[,1]==14,3:14])\n",
    "datos1 <- rbind(datos13,datos10,datos9,datos14)\n",
    "datos2 <- matrix(as.numeric(datos1),ncol=12,byrow=FALSE)\n",
    "dim(datos2)\n",
    "summary(datos2)\n",
    "boxplot(datos2)"
   ]
  },
  {
   "cell_type": "code",
   "execution_count": 43,
   "metadata": {},
   "outputs": [
    {
     "name": "stdout",
     "output_type": "stream",
     "text": [
      " [1] \"Poblaci.n..miles..2011\"                     \n",
      " [2] \"IDSE\"                                       \n",
      " [3] \"Ingreso.per.c.p..Mens..miles....2006.11\"    \n",
      " [4] \"Pobreza...2006.11\"                          \n",
      " [5] \"Escolaridad..aØos..2006.11\"                 \n",
      " [6] \"Material.Vivienda.bueno.o.acceptable...2006\"\n",
      " [7] \"Alcantarillado.o.Fosa.S.pt....2006\"         \n",
      " [8] \"Esperanza.vida.al.nacer..aØos..2005.10\"     \n",
      " [9] \"X.ndice.Desarrollo.Humano\"                  \n",
      "[10] \"Tasa.AVPP.x.1000.h.2007.11\"                 \n",
      "[11] \"X..defunc..50..aØos.2011\"                   \n",
      "[12] \"Mortalidad.Infantil.x.1000.NV.2009.11\"      \n"
     ]
    },
    {
     "data": {
      "image/png": "[encoded data removed]",
      "text/plain": [
       "Plot with title \"\""
      ]
     },
     "metadata": {
      "image/png": {
       "height": 420,
       "width": 420
      }
     },
     "output_type": "display_data"
    }
   ],
   "source": [
    "library(corrplot)\n",
    "print(colnames(datos)[3:14])\n",
    "correl <- cor(datos2)\n",
    "corrplot(correl, method = \"circle\", order = \"hclust\", addrect = 2)"
   ]
  },
  {
   "cell_type": "markdown",
   "metadata": {},
   "source": [
    "#### Respuesta Pregunta 2.1:\n",
    "1) Los datos consideran 12 variables e índices socio-económicos y de salud descritos a nivel de las 323 comunas de Chile. Del análisis PCA realizado en la tarea anterior, se sabe que es un conjunto de datos complejo de analizar, y que presenta algunas variables mas correlacionadas que otras. Del cálculo de la matriz de correlaciones, se observa además que la cantidad de habitantes en cada comuna, su índice IDSE y el ingreso per cápita están relacionadas positivamente entre sí, formando un grupo de variables. Mientras que todas las otras variables forman otro grupo de variables correlacionadas positivamente entre si, y negativamente con el grupo anterior, a excepción de pobreza que parece no estar correlacionada directamente con ninguna de las variables descritas.\n",
    "\n",
    "La falta de asociación de pobreza con las demás variables no parecen muy lógica, por lo que se estima que podría haber distintos grupos en los datos, que al analizarlos todos juntos provocan estas conclusión poco intuitiva. Ya en el PCA se observó que las relaciones entre variables se modificaban si se estudiaba por separado las comunas con mas de 100.000 habitantes de aquellas con menor población. Esta es una buena razón por la cual generar un análisis de agrupamiento y luego analizar el comportamiento de las variables al interior de cada grupo. "
   ]
  },
  {
   "cell_type": "code",
   "execution_count": 44,
   "metadata": {},
   "outputs": [
    {
     "data": {
      "image/png": "[encoded data removed]",
      "text/plain": [
       "Plot with title \"J v/s k en k-means\""
      ]
     },
     "metadata": {
      "image/png": {
       "height": 420,
       "width": 420
      }
     },
     "output_type": "display_data"
    }
   ],
   "source": [
    "#datos3 <- scale(datos2)\n",
    "J<-rep(0,20)\n",
    "fin_iter<-20\n",
    "\n",
    "\n",
    "for (k in 1:fin_iter){\n",
    "     cl<-kmeans(datos2,k,iter.max=1000,nstart=10)\n",
    "\t J[k]<-cl$tot.withinss\n",
    "}\n",
    "\n",
    "\n",
    "plot(1:fin_iter,J,xlab=\"k\",ylab=\"J\",type=\"p\",main=\"J v/s k en k-means\",col=2) "
   ]
  },
  {
   "cell_type": "code",
   "execution_count": 45,
   "metadata": {},
   "outputs": [
    {
     "name": "stdout",
     "output_type": "stream",
     "text": [
      "[1] 1.171833e+06 8.869198e+05 2.296462e+06 2.589256e+00\n",
      "[1] 9.442791e+05 2.275535e+05 8.869198e+05 3.897631e+00\n",
      "[1] 5.510752e+05 3.932039e+05 2.275535e+05 5.787164e-01\n",
      "[1] 3.772258e+05 1.738493e+05 3.932039e+05 2.261751e+00\n",
      "[1] 299370.52402  77855.30544 173849.33815      2.23298\n",
      "[1] 2.626254e+05 3.674509e+04 7.785531e+04 2.118795e+00\n",
      "[1] 2.293505e+05 3.327499e+04 3.674509e+04 1.104286e+00\n",
      "[1] 3\n"
     ]
    }
   ],
   "source": [
    "J<-rep(0,9)\n",
    "fin_iter<-9\n",
    "tasa <- rep(0,9)\n",
    "dif <- rep(1,9)\n",
    "cl_1 <- kmeans(datos2,1,iter.max=1000,nstart=10)\n",
    "J[1] <-cl_1$tot.withinss\n",
    "cl_2 <- kmeans(datos2,2,iter.max=1000,nstart=10)\n",
    "J[2] <-cl_2$tot.withinss\n",
    "dif[2] <- J[1]-J[2]\n",
    "tasa[2]<-1\n",
    "t_max <- 1\n",
    "k_max <-1\n",
    "\n",
    "for (k in 3:fin_iter){\n",
    "     cl<-kmeans(datos2,k,iter.max=2000,nstart=10)\n",
    "\t J[k]<-cl$tot.withinss\n",
    "     dif[k] <- J[k-1]-J[k]\n",
    "    # calcula la tasa mientras la función de pérdida sea decreciente\n",
    "     if ((dif[k] >0)&&(tasa[k-1]>0)){\n",
    "         tasa[k] <- dif[k-1]/dif[k]\n",
    "         if (tasa[k]>t_max) {\n",
    "             t_max <- tasa[k]\n",
    "             k_max <- k-1\n",
    "         }\n",
    "     }\n",
    "     print(c(J[k],dif[k], dif[k-1], tasa[k]))\n",
    "}\n",
    "\n",
    "print(k_max)"
   ]
  },
  {
   "cell_type": "markdown",
   "metadata": {},
   "source": [
    "#### Respuesta Pregunta 2.2 \n",
    "De la gráfica se observa un primer codo en k=3, lo cual se verifica con el código automatizado."
   ]
  },
  {
   "cell_type": "code",
   "execution_count": 48,
   "metadata": {},
   "outputs": [
    {
     "name": "stdout",
     "output_type": "stream",
     "text": [
      "          G1     G2     G3\n",
      " [1,] 126.60  23.75 309.10\n",
      " [2,]   0.89   0.54   0.67\n",
      " [3,] 587.90 155.95 214.20\n",
      " [4,]   4.10  15.75  11.50\n",
      " [5,]  13.70   8.65  10.80\n",
      " [6,]  95.70  83.05  88.20\n",
      " [7,] 100.00  79.25  98.00\n",
      " [8,]  80.00  75.90  78.20\n",
      " [9,]   0.84   0.48   0.62\n",
      "[10,]  53.20  86.60  58.80\n",
      "[11,]  87.40  76.45  72.70\n",
      "[12,]   6.30   7.70   7.30\n"
     ]
    }
   ],
   "source": [
    "cl<-kmeans(datos2,3,iter.max=1000,nstart=10)\n",
    "mediana <- matrix(0, ncol=12, nrow=3)\n",
    "for (i in 1:12) \n",
    "    mediana[,i] <- tapply(datos2[,i],cl$cluster,median)\n",
    "#rownames(mediana)<- c('G1','G2','G3','G4','G5','G6')\n",
    "rownames(mediana)<- c('G1','G2','G3')\n",
    "mediana <- round(mediana, digits=2)\n",
    "print(t(mediana))"
   ]
  },
  {
   "cell_type": "code",
   "execution_count": 49,
   "metadata": {},
   "outputs": [
    {
     "data": {
      "text/plain": [
       "\n",
       "  1   2   3 \n",
       "  7 108   9 "
      ]
     },
     "metadata": {},
     "output_type": "display_data"
    },
    {
     "data": {
      "image/png": "[encoded data removed]",
      "text/plain": [
       "Plot with title \"Histogram of cl$cluster\""
      ]
     },
     "metadata": {
      "image/png": {
       "height": 420,
       "width": 420
      }
     },
     "output_type": "display_data"
    }
   ],
   "source": [
    "hist(cl$cluster)\n",
    "table(cl$cluster)"
   ]
  },
  {
   "cell_type": "code",
   "execution_count": 50,
   "metadata": {},
   "outputs": [
    {
     "name": "stdout",
     "output_type": "stream",
     "text": [
      "Call:\n",
      "princomp(x = datos2, cor = TRUE)\n",
      "\n",
      "Standard deviations:\n",
      "     Comp.1      Comp.2      Comp.3      Comp.4      Comp.5      Comp.6 \n",
      "2.535746219 1.183768234 1.072373422 0.922263253 0.860389709 0.687205660 \n",
      "     Comp.7      Comp.8      Comp.9     Comp.10     Comp.11     Comp.12 \n",
      "0.648663335 0.564629464 0.395257848 0.239441080 0.049635189 0.003541723 \n",
      "\n",
      " 12  variables and  124 observations.\n"
     ]
    },
    {
     "data": {
      "text/html": [
       "<table class=\"dataframe\">\n",
       "<caption>A matrix: 3 × 12 of type dbl</caption>\n",
       "<thead>\n",
       "\t<tr><th></th><th scope=col>Comp.1</th><th scope=col>Comp.2</th><th scope=col>Comp.3</th><th scope=col>Comp.4</th><th scope=col>Comp.5</th><th scope=col>Comp.6</th><th scope=col>Comp.7</th><th scope=col>Comp.8</th><th scope=col>Comp.9</th><th scope=col>Comp.10</th><th scope=col>Comp.11</th><th scope=col>Comp.12</th></tr>\n",
       "</thead>\n",
       "<tbody>\n",
       "\t<tr><th scope=row>1</th><td> 6.4873441</td><td>-1.81173225</td><td>-0.01329144</td><td> 1.1462011</td><td>-0.71265963</td><td> 0.04257985</td><td> 0.42839542</td><td>-0.76853105</td><td> 0.08006695</td><td> 0.031537866</td><td> 0.012878634</td><td> 1.593239e-03</td></tr>\n",
       "\t<tr><th scope=row>2</th><td>-0.6493346</td><td>-0.05493193</td><td>-0.07544572</td><td>-0.0930318</td><td>-0.04137809</td><td>-0.02028828</td><td>-0.09369443</td><td> 0.02828052</td><td>-0.02259942</td><td>-0.003758737</td><td>-0.002431845</td><td> 6.417192e-05</td></tr>\n",
       "\t<tr><th scope=row>3</th><td> 2.7463033</td><td> 2.06830830</td><td> 0.91568646</td><td> 0.2248918</td><td> 1.05082791</td><td> 0.21034169</td><td> 0.79113672</td><td> 0.25838009</td><td> 0.20891873</td><td> 0.020575391</td><td> 0.019165420</td><td>-2.009249e-03</td></tr>\n",
       "</tbody>\n",
       "</table>\n"
      ],
      "text/latex": [
       "A matrix: 3 × 12 of type dbl\n",
       "\\begin{tabular}{r|llllllllllll}\n",
       "  & Comp.1 & Comp.2 & Comp.3 & Comp.4 & Comp.5 & Comp.6 & Comp.7 & Comp.8 & Comp.9 & Comp.10 & Comp.11 & Comp.12\\\\\n",
       "\\hline\n",
       "\t1 &  6.4873441 & -1.81173225 & -0.01329144 &  1.1462011 & -0.71265963 &  0.04257985 &  0.42839542 & -0.76853105 &  0.08006695 &  0.031537866 &  0.012878634 &  1.593239e-03\\\\\n",
       "\t2 & -0.6493346 & -0.05493193 & -0.07544572 & -0.0930318 & -0.04137809 & -0.02028828 & -0.09369443 &  0.02828052 & -0.02259942 & -0.003758737 & -0.002431845 &  6.417192e-05\\\\\n",
       "\t3 &  2.7463033 &  2.06830830 &  0.91568646 &  0.2248918 &  1.05082791 &  0.21034169 &  0.79113672 &  0.25838009 &  0.20891873 &  0.020575391 &  0.019165420 & -2.009249e-03\\\\\n",
       "\\end{tabular}\n"
      ],
      "text/markdown": [
       "\n",
       "A matrix: 3 × 12 of type dbl\n",
       "\n",
       "| <!--/--> | Comp.1 | Comp.2 | Comp.3 | Comp.4 | Comp.5 | Comp.6 | Comp.7 | Comp.8 | Comp.9 | Comp.10 | Comp.11 | Comp.12 |\n",
       "|---|---|---|---|---|---|---|---|---|---|---|---|---|\n",
       "| 1 |  6.4873441 | -1.81173225 | -0.01329144 |  1.1462011 | -0.71265963 |  0.04257985 |  0.42839542 | -0.76853105 |  0.08006695 |  0.031537866 |  0.012878634 |  1.593239e-03 |\n",
       "| 2 | -0.6493346 | -0.05493193 | -0.07544572 | -0.0930318 | -0.04137809 | -0.02028828 | -0.09369443 |  0.02828052 | -0.02259942 | -0.003758737 | -0.002431845 |  6.417192e-05 |\n",
       "| 3 |  2.7463033 |  2.06830830 |  0.91568646 |  0.2248918 |  1.05082791 |  0.21034169 |  0.79113672 |  0.25838009 |  0.20891873 |  0.020575391 |  0.019165420 | -2.009249e-03 |\n",
       "\n"
      ],
      "text/plain": [
       "  Comp.1     Comp.2      Comp.3      Comp.4     Comp.5      Comp.6     \n",
       "1  6.4873441 -1.81173225 -0.01329144  1.1462011 -0.71265963  0.04257985\n",
       "2 -0.6493346 -0.05493193 -0.07544572 -0.0930318 -0.04137809 -0.02028828\n",
       "3  2.7463033  2.06830830  0.91568646  0.2248918  1.05082791  0.21034169\n",
       "  Comp.7      Comp.8      Comp.9      Comp.10      Comp.11      Comp.12      \n",
       "1  0.42839542 -0.76853105  0.08006695  0.031537866  0.012878634  1.593239e-03\n",
       "2 -0.09369443  0.02828052 -0.02259942 -0.003758737 -0.002431845  6.417192e-05\n",
       "3  0.79113672  0.25838009  0.20891873  0.020575391  0.019165420 -2.009249e-03"
      ]
     },
     "metadata": {},
     "output_type": "display_data"
    },
    {
     "data": {
      "text/plain": [
       "K-means clustering with 3 clusters of sizes 7, 108, 9\n",
       "\n",
       "Cluster means:\n",
       "      [,1]      [,2]     [,3]      [,4]      [,5]     [,6]     [,7]     [,8]\n",
       "1 144.0714 0.8992857 748.2857  4.214286 13.614286 93.50000 99.68571 80.07143\n",
       "2  43.0500 0.5258796 161.1944 17.381481  8.880556 81.64630 76.10370 75.86204\n",
       "3 364.0111 0.6741111 211.0000 12.533333 10.677778 86.96667 96.68889 78.37778\n",
       "       [,9]    [,10]    [,11]    [,12]\n",
       "1 0.8670000 57.27143 84.78571 6.114286\n",
       "2 0.4821204 87.14630 75.89444 7.850926\n",
       "3 0.6267778 59.64444 71.35556 7.500000\n",
       "\n",
       "Clustering vector:\n",
       "  [1] 1 1 1 1 1 1 1 2 3 3 2 2 3 2 2 2 2 2 3 2 3 2 3 2 2 2 2 2 2 2 2 2 2 2 2 2 3\n",
       " [38] 2 2 2 2 2 2 2 2 2 2 2 2 2 2 2 3 2 2 2 2 2 2 2 2 2 2 2 2 2 2 2 2 2 2 2 2 2\n",
       " [75] 2 2 2 2 2 3 2 2 2 2 2 2 2 2 2 2 2 2 2 2 2 2 2 2 2 2 2 2 2 2 2 2 2 2 2 2 2\n",
       "[112] 2 2 2 2 2 2 2 2 2 2 2 2 2\n",
       "\n",
       "Within cluster sum of squares by cluster:\n",
       "[1] 452033.1 468164.3 251635.2\n",
       " (between_SS / total_SS =  73.1 %)\n",
       "\n",
       "Available components:\n",
       "\n",
       "[1] \"cluster\"      \"centers\"      \"totss\"        \"withinss\"     \"tot.withinss\"\n",
       "[6] \"betweenss\"    \"size\"         \"iter\"         \"ifault\"      "
      ]
     },
     "metadata": {},
     "output_type": "display_data"
    },
    {
     "data": {
      "image/png": "[encoded data removed]",
      "text/plain": [
       "Plot with title \"res\""
      ]
     },
     "metadata": {
      "image/png": {
       "height": 420,
       "width": 420
      }
     },
     "output_type": "display_data"
    },
    {
     "ename": "ERROR",
     "evalue": "Error in plot.xy(xy.coords(x, y), type = type, ...): objeto 'k0' no encontrado\n",
     "output_type": "error",
     "traceback": [
      "Error in plot.xy(xy.coords(x, y), type = type, ...): objeto 'k0' no encontrado\nTraceback:\n",
      "1. points(res2[, 1:2], col = 1:k0, pch = 19)",
      "2. points.default(res2[, 1:2], col = 1:k0, pch = 19)",
      "3. plot.xy(xy.coords(x, y), type = type, ...)"
     ]
    },
    {
     "data": {
      "image/png": "[encoded data removed]",
      "text/plain": [
       "plot without title"
      ]
     },
     "metadata": {
      "image/png": {
       "height": 420,
       "width": 420
      }
     },
     "output_type": "display_data"
    }
   ],
   "source": [
    "res <- princomp(datos2, cor=TRUE)\n",
    "print(res)\n",
    "plot(res)\n",
    "res2 <- predict(res,cl$centers)\n",
    "res2\n",
    "cl\n",
    "biplot(res,xlabs=cl$cluster)\n",
    "#grafica los centros de cada grupo en el plano de componentes principales utilizando colores distintos\n",
    "points(res2[,1:2],col=1:k0,pch=19)"
   ]
  },
  {
   "cell_type": "markdown",
   "metadata": {},
   "source": [
    "#### Respuesta Pregunta 2.3\n",
    "De acuerdo al agrupamiento se distingue claramente un grupo pequeño (G1), de 7 comunas, caracterizado por altos ingresos, altos índices socioeconómicos y de salud, cantidad de habitantes medio, y bajo índice de pobreza, tasa de AVPP y mortalidad infantil. Por otra parte, tenemos un segundo grupo de las 9 comunas con mayor cantidad de habitantes (G3) con valores medios de los índices socio-económicos y de salud, a excepción de mortalidad en menores de 50 años. Este resultado se puede explicar por que en dichas comunas existe mayor acceso a fuentes de trabajo y establecimientos de salud.  Por último tenemos el grupo (G2) que concentra a la mayor cantidad de comunas (108), con bastante menor número de habitantes y los mas bajos índices socio-económicos y de salud, mayores niveles de pobreza y tasa de AVPP y valores medios de mortalidad menores de 50 años."
   ]
  }
 ],
 "metadata": {
  "celltoolbar": "Raw Cell Format",
  "kernelspec": {
   "display_name": "R",
   "language": "R",
   "name": "ir"
  },
  "language_info": {
   "codemirror_mode": "r",
   "file_extension": ".r",
   "mimetype": "text/x-r-source",
   "name": "R",
   "pygments_lexer": "r",
   "version": "4.1.1"
  }
 },
 "nbformat": 4,
 "nbformat_minor": 2
}
