{
 "cells": [
  {
   "cell_type": "markdown",
   "metadata": {},
   "source": [
    "# Control Recuperativo Aprendizaje No Supervisado\n",
    "\n",
    "*Al finalizar, subir el notebook desarrollado a siveducMD*"
   ]
  },
  {
   "cell_type": "markdown",
   "metadata": {},
   "source": [
    "Considere los datos adjuntos provenientes de una muestra anonimizada de 229 estudiantes de esta universidad que han recibido apoyo mediante consejerías en los años 2021 y 2022.\n",
    "\n",
    "Se trata de caracterizar estos de estudiantes en función de las siguientes variables que reflejan su rendimiento en el semestre en que tuvo acceso a una consejería:\n",
    "\n",
    "* PGA: promedio general acumulado\n",
    "\n",
    "* PSP: promedio semestral \n",
    "\n",
    "* N_cursos: Número de cursos inscritos ese semestre\n",
    "\n",
    "* N_aprobados: Número de cursos aprobados en dicho semestre\n",
    "\n",
    "* Ranking: asociado con su cohorte (menor valor corresponde a mejor desempeño)\n",
    "\n",
    "En este control se trata de determinar si las variables aquí descritas permiten agrupar a los estudiantes de modo de caracterizar distintos perfiles de estudiantes que reciben consejeria.\n"
   ]
  },
  {
   "cell_type": "code",
   "execution_count": 11,
   "metadata": {},
   "outputs": [
    {
     "name": "stdout",
     "output_type": "stream",
     "text": [
      "    PGA  PSP N_cursos N_aprob Ranking\n",
      "1  5.45 4.83        7       7       9\n",
      "2  5.08 4.69        4       4      44\n",
      "3  5.47 4.86        4       4      33\n",
      "4   4.6 4.66        3       2      56\n",
      "5  4.56 4.69        4       3      59\n",
      "6  4.38 4.99        6       4      40\n",
      "7  4.66  4.7        7       5      37\n",
      "8  4.33  4.6        6       4      57\n",
      "9  4.71 4.95        5       3      43\n",
      "10 4.05 4.93        5       2      66\n"
     ]
    }
   ],
   "source": [
    "library(ggplot2)\n",
    "datos <-read.csv(\"datosV1.csv\",dec=\",\",sep=\";\",header=TRUE)\n",
    "print(datos[1:10,])"
   ]
  },
  {
   "cell_type": "markdown",
   "metadata": {},
   "source": [
    "**Pregunta 1. (2 puntos)** \n",
    "\n",
    "**(i)** Realice un análisis exploratorio de los datos de las 5 características de los estudiantes, incluyendo resúmenes de cada variable, boxplots y correlaciones. Interprete sus resultados.\n",
    "\n",
    "**(ii)**  Realice un análisis de componentes principales (PCA) Indique cual es el interés de utilizar PCA en este conjunto de datos. ¿Es necesario realizar alguna transformación en los datos antes de continuar con su análisis?"
   ]
  },
  {
   "cell_type": "markdown",
   "metadata": {},
   "source": [
    "**Pregunta 2. (4 puntos)** \n",
    "\n",
    "**(i)** Escoja dos métodos de agrupamiento que estime son adecuado para tratar estos datos. En particular, explique las principales características de los métodos considerados y justifique su elección. \n",
    "\n",
    "**(ii)** Desarrolle los agrupamientos correspondientes explicando como escogió los valores de los parámetros utilizados. Itere si es necesario.\n",
    "\n",
    "**(iii)** Grafique sus resultados utilizando proyecciones de los agrupamientos en el primer plano de componentes principales. Interprete sus resultados. \n",
    "\n",
    "**(iv)** Utilice alguna de las medidas de calidad de clustering que conoce para contrastar (entre si) los dos métodos utilizados. Interprete sus resultados y concluya.\n"
   ]
  }
 ],
 "metadata": {
  "kernelspec": {
   "display_name": "R",
   "language": "R",
   "name": "ir"
  },
  "language_info": {
   "codemirror_mode": "r",
   "file_extension": ".r",
   "mimetype": "text/x-r-source",
   "name": "R",
   "pygments_lexer": "r",
   "version": "3.6.1"
  }
 },
 "nbformat": 4,
 "nbformat_minor": 2
}
