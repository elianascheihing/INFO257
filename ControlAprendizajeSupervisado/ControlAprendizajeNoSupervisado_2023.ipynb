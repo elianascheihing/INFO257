{
 "cells": [
  {
   "cell_type": "markdown",
   "metadata": {},
   "source": [
    "# Control Aprendizaje No Supervisado\n",
    "\n",
    "*Al finalizar, subir el notebook desarrollado a siveducMD*"
   ]
  },
  {
   "cell_type": "markdown",
   "metadata": {},
   "source": [
    "Considere los datos adjuntos provenientes de una muestra anonimizada de estudiantes de esta universidad que han recibido apoyo mediante consejerías.\n",
    "\n",
    "Se trata de caracterizar estos de estudiantes en función de las siguientes variables que reflejan su rendimiento en el semestre en que tuvo acceso a una consejería:\n",
    "\n",
    "* PGA: promedio general acumulado\n",
    "\n",
    "* PSP: promedio semestral \n",
    "\n",
    "* N_cursos: Número de cursos inscritos ese semestre\n",
    "\n",
    "* N_aprobados: Número de cursos aprobados en dicho semestre\n",
    "\n",
    "* Ranking: asociado con su cohorte (menor valor corresponde a mejor desempeño)\n",
    "\n",
    "En este control se trata de determinar si las variables aquí descritas permiten agrupar a los estudiantes de modo de caracterizar distintos perfiles de estudiantes que reciben consejeria.\n"
   ]
  },
  {
   "cell_type": "code",
   "execution_count": 2,
   "metadata": {},
   "outputs": [
    {
     "name": "stdout",
     "output_type": "stream",
     "text": [
      "    PGA  PSP N_cursos N_aprobados Ranking\n",
      "1  4.38 4.99        6           4      40\n",
      "2  5.25 5.48        7           6      45\n",
      "3  6.14 6.28        7           7      22\n",
      "4  5.56 5.22       10           5      29\n",
      "5  4.71 4.95        5           3      43\n",
      "6  4.33 4.60        6           4      57\n",
      "7  4.05 4.93        5           2      66\n",
      "8  5.11 4.63        5           4      33\n",
      "9  6.11 6.24        7           7       7\n",
      "10 5.17 5.06        5           4      44\n"
     ]
    }
   ],
   "source": [
    "library(ggplot2)\n",
    "datos <-read.csv(\"..//data/datosV.csv\",dec=\".\",sep=\";\",header=TRUE)\n",
    "print(datos[1:10,])"
   ]
  },
  {
   "cell_type": "markdown",
   "metadata": {},
   "source": [
    "**Pregunta 1. (2 puntos)** \n",
    "\n",
    "**(i)** Realice un análisis exploratorio de los datos de las 5 características de los estudiantes, incluyendo resúmenes de cada variable, boxplots, correlaciones y  análisis de componentes principales (PCA). Interprete sus resultados.\n",
    "\n",
    "**(ii)**  Indique cual es el interés de utilizar PCA en este conjunto de datos. ¿Es necesario realizar alguna transformación en los datos antes de continuar con su análisis?"
   ]
  },
  {
   "cell_type": "markdown",
   "metadata": {},
   "source": [
    "**Pregunta 2. (4 puntos)** \n",
    "\n",
    "**(i)** Escoja dos métodos de agrupamiento que estime son adecuado para tratar estos datos. En particular, explique las principales características de los métodos considerados y justifique su elección. \n",
    "\n",
    "**(ii)** Desarrolle los agrupamientos correspondientes explicando como escogió los valores de los parámetros utilizados. Itere si es necesario.\n",
    "\n",
    "**(iii)** Grafique sus resultados utilizando proyecciones de los agrupamientos en el primer plano de componentes principales. Interprete sus resultados. \n",
    "\n",
    "**(iv)** Utilice alguna de las medidas de calidad de clustering que conoce para contrastar los dos métodos utilizados. Interprete sus resultados y concluya.\n"
   ]
  }
 ],
 "metadata": {
  "kernelspec": {
   "display_name": "R",
   "language": "R",
   "name": "ir"
  },
  "language_info": {
   "codemirror_mode": "r",
   "file_extension": ".r",
   "mimetype": "text/x-r-source",
   "name": "R",
   "pygments_lexer": "r",
   "version": "3.6.1"
  }
 },
 "nbformat": 4,
 "nbformat_minor": 2
}
